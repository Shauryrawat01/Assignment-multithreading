{
 "cells": [
  {
   "cell_type": "code",
   "execution_count": 1,
   "id": "81a45c64-fdc5-4ebc-aee2-1c90895ff22c",
   "metadata": {},
   "outputs": [],
   "source": [
    "#Question 1\n",
    "#Multithreading is a programming technique that allows\n",
    "#multiple tasks to be executed simultaneously within a single process\n",
    "#It is used  improving the performance of programs that can be broken down into smaller, independent tasks.\n",
    "#The module used to handle threads in Python is the threading module\n"
   ]
  },
  {
   "cell_type": "code",
   "execution_count": 2,
   "id": "e51ff648-c0f1-4732-9247-9567ee698980",
   "metadata": {},
   "outputs": [],
   "source": [
    "#Question 2\n",
    "#The threading module is used to create and manage threads in Python\n",
    "#activeCount(): This function returns the number of active threads in the current process.\n",
    "#currentThread(): This function returns the current thread object.\n",
    "#enumerate(): This function returns a list of all active threads in the current process."
   ]
  },
  {
   "cell_type": "code",
   "execution_count": 3,
   "id": "5bbabe92-5002-45b4-a617-15fb737adb76",
   "metadata": {},
   "outputs": [],
   "source": [
    "#Question 3\n",
    "#run(): This function is the entry point for a thread. It is called by the start() function. The run() function should contain the code that the thread will execute.\n",
    "#start(): This function starts a thread. It calls the run() function in the background.\n",
    "#join(): This function waits for a thread to finish. It blocks the calling thread until the thread it is called on finishes its execution.\n",
    "#isAlive(): This function checks whether a thread is alive. A thread is alive if it has been started but has not yet finished executing."
   ]
  },
  {
   "cell_type": "code",
   "execution_count": 4,
   "id": "b4848492-4693-40f1-a112-359ab5868a40",
   "metadata": {},
   "outputs": [
    {
     "name": "stdout",
     "output_type": "stream",
     "text": [
      "1\n",
      "4\n",
      "9\n",
      "16\n",
      "25\n",
      "36\n",
      "49\n",
      "64\n",
      "81\n",
      "100\n",
      "1\n",
      "8\n",
      "27\n",
      "64\n",
      "125\n",
      "216\n",
      "343\n",
      "512\n",
      "729\n",
      "1000\n"
     ]
    }
   ],
   "source": [
    "#Question 4\n",
    "import threading\n",
    "\n",
    "def print_squares(n):\n",
    "  for i in range(1, n + 1):\n",
    "    print(i * i)\n",
    "\n",
    "def print_cubes(n):\n",
    "  for i in range(1, n + 1):\n",
    "    print(i * i * i)\n",
    "\n",
    "def main():\n",
    "  t1 = threading.Thread(target=print_squares, args=(10,))\n",
    "  t2 = threading.Thread(target=print_cubes, args=(10,))\n",
    "\n",
    "  t1.start()\n",
    "  t2.start()\n",
    "\n",
    "  t1.join()\n",
    "  t2.join()\n",
    "\n",
    "if __name__ == \"__main__\":\n",
    "  main()\n"
   ]
  },
  {
   "cell_type": "code",
   "execution_count": 5,
   "id": "ba974daa-14e6-4205-9691-e277173ea9ff",
   "metadata": {},
   "outputs": [],
   "source": [
    "#Question 5\n",
    "#advantages and disadvantages of multithreading\n",
    "#Advantage\n",
    "#1-Multithreading can improve the performance of programs by allowing multiple tasks to be executed simultaneously\n",
    "#2-Multithreading can reduce the blocking of resources by allowing multiple tasks to share the same resources.\n",
    "#3- Multithreading can help to better utilize system resources, such as the CPU and memory\n",
    "\n",
    "\n",
    "#Disadvantage\n",
    "#1-Multithreading can make programs more complex to develop and debug.\n",
    "#2-When multiple threads are sharing the same resources, there is a potential for resource contention. This can lead to performance degradation.\n",
    "#3-it may cause condition of deadlock"
   ]
  },
  {
   "cell_type": "code",
   "execution_count": null,
   "id": "2456bf1a-27c2-4b6a-abd7-1f1c1c20c946",
   "metadata": {},
   "outputs": [],
   "source": [
    "#Question 6\n",
    "#Dead lock \n",
    "#it is a situation in which two or more threads are blocked indefinitely, waiting for each other to release a resource. This can happen when two threads each hold a resource that the other thread needs\n",
    "\n",
    "#race conditions\n",
    "itis a situation in which the outcome of a program depends on the order in which two or more threads access a shared resource. This can happen when two threads are both trying to update the same variable at the same time"
   ]
  }
 ],
 "metadata": {
  "kernelspec": {
   "display_name": "Python 3 (ipykernel)",
   "language": "python",
   "name": "python3"
  },
  "language_info": {
   "codemirror_mode": {
    "name": "ipython",
    "version": 3
   },
   "file_extension": ".py",
   "mimetype": "text/x-python",
   "name": "python",
   "nbconvert_exporter": "python",
   "pygments_lexer": "ipython3",
   "version": "3.11.4"
  }
 },
 "nbformat": 4,
 "nbformat_minor": 5
}
